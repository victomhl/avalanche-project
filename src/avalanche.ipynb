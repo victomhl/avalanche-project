{
 "cells": [
  {
   "cell_type": "markdown",
   "metadata": {},
   "source": [
    "# Utah Avalanche Fatalities Project\n",
    "Author: Victor Hurtado"
   ]
  },
  {
   "cell_type": "markdown",
   "metadata": {},
   "source": [
    "## Description\n",
    "\n",
    "This notebook is base on the final character \"*Avalanche Analysis and Ploting*\" of the book [Learning the Pandas Library by Matt Harrison](https://www.amazon.com/Learning-Pandas-Library-Munging-Analysis/dp/153359824X).\n",
    "\n",
    "The data used was crawling from the [Utah Avalanche Center](https://utahavalanchecenter.org/avalanches/fatalities) website using the **Scrapy Library**, and stored in a json file. The data consist in 110 observations that correspond to fatal avalanches, and 23 variables:\n",
    "\n",
    "* **Observer Name**: Observer name.\n",
    "* **Observation Date**: Date when the avalanche was upload to the page.\n",
    "* **Avalanche Date**: Date when the avalanche occur.\n",
    "* **Region**: Region\n",
    "* **Location Name or Route**: Location or route name.\n",
    "* **Elevation**: Elevation at which the avalanche occur.                     \n",
    "* **Aspect**: Aspect refers to the direction a slope faces.                \n",
    "* **Slope Angle**: Slopes where the snow slid.            \n",
    "* **Trigger**: Avalanches can be triggered either naturally or artificially.               \n",
    "* **Trigger: additional info**: Additional information about the avalanche trigger.   \n",
    "* **Avalanche Type**: Type of avalanche.               \n",
    "* **Avalanche Problem**: Avalanche problems are eight types of snowpack instabilities commonly encountered in the mountains and referenced in avalanche forecasts.        \n",
    "* **Weak Layer**: Weak layers are layers within the snowpack composed of snow crystals that are poorly bonded with the snow above or below them.      \n",
    "* **Depth**: Depth of snowpack that slid during the avalanche.                \n",
    "* **Width**: Width of snowpack that slid during the avalanche.                       \n",
    "* **Vertical**: How many vertical feet the avalanche slid.                    \n",
    "* **Carried**: Number of people carried by the avalanche.                    \n",
    "* **Caught**: Number of people that where caught in the avalanche.                      \n",
    "* **Buried - Fully**: Number of people fully buried in the avalanche.              \n",
    "* **Killed**: Number of the people kill in the avalanche.                        \n",
    "* **Coordinates**: Approximate latitude and longitude of the avalanche.                  \n",
    "* **Buried - Partly**: Number of people partially Buried in the avalanche.             \n",
    "* **Injured**: Number of people injured in the avalanche.\n"
   ]
  },
  {
   "cell_type": "markdown",
   "metadata": {},
   "source": [
    "## Setting up the environment"
   ]
  },
  {
   "cell_type": "code",
   "execution_count": 1,
   "metadata": {},
   "outputs": [],
   "source": [
    "import pandas as pd\n",
    "import matplotlib.pyplot as plt\n",
    "import matplotlib.ticker as ticker\n",
    "import seaborn as sns\n",
    "import numpy as np"
   ]
  },
  {
   "cell_type": "markdown",
   "metadata": {},
   "source": [
    "## Import data"
   ]
  },
  {
   "cell_type": "code",
   "execution_count": 2,
   "metadata": {},
   "outputs": [],
   "source": [
    "df = pd.read_json('../data/avalanche.json')"
   ]
  },
  {
   "cell_type": "markdown",
   "metadata": {},
   "source": [
    "## Explore"
   ]
  },
  {
   "cell_type": "code",
   "execution_count": 3,
   "metadata": {},
   "outputs": [
    {
     "data": {
      "text/html": [
       "<div>\n",
       "<style scoped>\n",
       "    .dataframe tbody tr th:only-of-type {\n",
       "        vertical-align: middle;\n",
       "    }\n",
       "\n",
       "    .dataframe tbody tr th {\n",
       "        vertical-align: top;\n",
       "    }\n",
       "\n",
       "    .dataframe thead th {\n",
       "        text-align: right;\n",
       "    }\n",
       "</style>\n",
       "<table border=\"1\" class=\"dataframe\">\n",
       "  <thead>\n",
       "    <tr style=\"text-align: right;\">\n",
       "      <th></th>\n",
       "      <th>Observer Name</th>\n",
       "      <th>Observation Date</th>\n",
       "      <th>Avalanche Date</th>\n",
       "      <th>Region</th>\n",
       "      <th>Location Name or Route</th>\n",
       "      <th>Elevation</th>\n",
       "      <th>Aspect</th>\n",
       "      <th>Slope Angle</th>\n",
       "      <th>Trigger</th>\n",
       "      <th>Trigger: additional info</th>\n",
       "      <th>...</th>\n",
       "      <th>Depth</th>\n",
       "      <th>Width</th>\n",
       "      <th>Vertical</th>\n",
       "      <th>Carried</th>\n",
       "      <th>Caught</th>\n",
       "      <th>Buried - Fully</th>\n",
       "      <th>Killed</th>\n",
       "      <th>Coordinates</th>\n",
       "      <th>Buried - Partly</th>\n",
       "      <th>Injured</th>\n",
       "    </tr>\n",
       "  </thead>\n",
       "  <tbody>\n",
       "    <tr>\n",
       "      <th>0</th>\n",
       "      <td>UAC staff</td>\n",
       "      <td>Monday, February 22, 2021</td>\n",
       "      <td>Saturday, February 20, 2021</td>\n",
       "      <td>SE Idaho » Bear Lake Area » Sherman Peak</td>\n",
       "      <td>Sherman Peak</td>\n",
       "      <td>9,400'</td>\n",
       "      <td>East</td>\n",
       "      <td>37°</td>\n",
       "      <td>Snowmobiler</td>\n",
       "      <td>Remotely Triggered</td>\n",
       "      <td>...</td>\n",
       "      <td>3.5'</td>\n",
       "      <td>450'</td>\n",
       "      <td>1,000'</td>\n",
       "      <td>1.0</td>\n",
       "      <td>1.0</td>\n",
       "      <td>1.0</td>\n",
       "      <td>1</td>\n",
       "      <td>None</td>\n",
       "      <td>NaN</td>\n",
       "      <td>NaN</td>\n",
       "    </tr>\n",
       "    <tr>\n",
       "      <th>1</th>\n",
       "      <td>UAC Staff</td>\n",
       "      <td>Monday, December 16, 2019</td>\n",
       "      <td>Sunday, December 15, 2019</td>\n",
       "      <td>Salt Lake » Park City Ridgeline » Dutch Draw</td>\n",
       "      <td>Dutch Draw</td>\n",
       "      <td>9,700'</td>\n",
       "      <td>East</td>\n",
       "      <td>40°</td>\n",
       "      <td>Snowboarder</td>\n",
       "      <td>Unintentionally Triggered</td>\n",
       "      <td>...</td>\n",
       "      <td>2'</td>\n",
       "      <td>100'</td>\n",
       "      <td>400'</td>\n",
       "      <td>1.0</td>\n",
       "      <td>1.0</td>\n",
       "      <td>NaN</td>\n",
       "      <td>1</td>\n",
       "      <td>\\n</td>\n",
       "      <td>1.0</td>\n",
       "      <td>NaN</td>\n",
       "    </tr>\n",
       "    <tr>\n",
       "      <th>2</th>\n",
       "      <td>Park City Canyons Patrol, Mark Staples, Evelyn...</td>\n",
       "      <td>Tuesday, February 2, 2016</td>\n",
       "      <td>Sunday, January 31, 2016</td>\n",
       "      <td>Salt Lake » Park City Ridgeline » Pointy Peak</td>\n",
       "      <td>near Shale Shot, in the Rip's Ridge/Pointy Pea...</td>\n",
       "      <td>9,100'</td>\n",
       "      <td>Northwest</td>\n",
       "      <td>40°</td>\n",
       "      <td>Skier</td>\n",
       "      <td>Unintentionally Triggered</td>\n",
       "      <td>...</td>\n",
       "      <td>3'</td>\n",
       "      <td>45'</td>\n",
       "      <td>300'</td>\n",
       "      <td>1.0</td>\n",
       "      <td>1.0</td>\n",
       "      <td>1.0</td>\n",
       "      <td>1</td>\n",
       "      <td>None</td>\n",
       "      <td>NaN</td>\n",
       "      <td>NaN</td>\n",
       "    </tr>\n",
       "    <tr>\n",
       "      <th>3</th>\n",
       "      <td>Brett Kobernik &amp; UAC Staff</td>\n",
       "      <td>Friday, January 18, 2019</td>\n",
       "      <td>Friday, January 18, 2019</td>\n",
       "      <td>Skyline » Huntington Canyon » Electric Lake</td>\n",
       "      <td>Electric Lake Bowl</td>\n",
       "      <td>9,500'</td>\n",
       "      <td>Northeast</td>\n",
       "      <td>37°</td>\n",
       "      <td>Skier</td>\n",
       "      <td>Unintentionally Triggered</td>\n",
       "      <td>...</td>\n",
       "      <td>3'</td>\n",
       "      <td>500'</td>\n",
       "      <td>600'</td>\n",
       "      <td>1.0</td>\n",
       "      <td>1.0</td>\n",
       "      <td>1.0</td>\n",
       "      <td>1</td>\n",
       "      <td>None</td>\n",
       "      <td>NaN</td>\n",
       "      <td>NaN</td>\n",
       "    </tr>\n",
       "    <tr>\n",
       "      <th>4</th>\n",
       "      <td>Craig Gordon</td>\n",
       "      <td>Sunday, February 10, 2019</td>\n",
       "      <td>Saturday, February 9, 2019</td>\n",
       "      <td>Uintas » Upper Weber Canyon » 1000 Peaks » Cha...</td>\n",
       "      <td>Blue Lake</td>\n",
       "      <td>10,300'</td>\n",
       "      <td>Northwest</td>\n",
       "      <td>38°</td>\n",
       "      <td>Snowmobiler</td>\n",
       "      <td>Unintentionally Triggered</td>\n",
       "      <td>...</td>\n",
       "      <td>5.5'</td>\n",
       "      <td>1,000'</td>\n",
       "      <td>500'</td>\n",
       "      <td>1.0</td>\n",
       "      <td>1.0</td>\n",
       "      <td>1.0</td>\n",
       "      <td>1</td>\n",
       "      <td>\\n</td>\n",
       "      <td>NaN</td>\n",
       "      <td>1.0</td>\n",
       "    </tr>\n",
       "  </tbody>\n",
       "</table>\n",
       "<p>5 rows × 23 columns</p>\n",
       "</div>"
      ],
      "text/plain": [
       "                                       Observer Name  \\\n",
       "0                                          UAC staff   \n",
       "1                                          UAC Staff   \n",
       "2  Park City Canyons Patrol, Mark Staples, Evelyn...   \n",
       "3                         Brett Kobernik & UAC Staff   \n",
       "4                                       Craig Gordon   \n",
       "\n",
       "            Observation Date               Avalanche Date  \\\n",
       "0  Monday, February 22, 2021  Saturday, February 20, 2021   \n",
       "1  Monday, December 16, 2019    Sunday, December 15, 2019   \n",
       "2  Tuesday, February 2, 2016     Sunday, January 31, 2016   \n",
       "3   Friday, January 18, 2019     Friday, January 18, 2019   \n",
       "4  Sunday, February 10, 2019   Saturday, February 9, 2019   \n",
       "\n",
       "                                              Region  \\\n",
       "0           SE Idaho » Bear Lake Area » Sherman Peak   \n",
       "1       Salt Lake » Park City Ridgeline » Dutch Draw   \n",
       "2      Salt Lake » Park City Ridgeline » Pointy Peak   \n",
       "3        Skyline » Huntington Canyon » Electric Lake   \n",
       "4  Uintas » Upper Weber Canyon » 1000 Peaks » Cha...   \n",
       "\n",
       "                              Location Name or Route Elevation     Aspect  \\\n",
       "0                                      Sherman Peak     9,400'       East   \n",
       "1                                         Dutch Draw    9,700'       East   \n",
       "2  near Shale Shot, in the Rip's Ridge/Pointy Pea...    9,100'  Northwest   \n",
       "3                                 Electric Lake Bowl    9,500'  Northeast   \n",
       "4                                          Blue Lake   10,300'  Northwest   \n",
       "\n",
       "  Slope Angle      Trigger   Trigger: additional info  ... Depth   Width  \\\n",
       "0         37°  Snowmobiler         Remotely Triggered  ...  3.5'    450'   \n",
       "1         40°  Snowboarder  Unintentionally Triggered  ...    2'    100'   \n",
       "2         40°        Skier  Unintentionally Triggered  ...    3'     45'   \n",
       "3         37°        Skier  Unintentionally Triggered  ...    3'    500'   \n",
       "4         38°  Snowmobiler  Unintentionally Triggered  ...  5.5'  1,000'   \n",
       "\n",
       "  Vertical Carried Caught Buried - Fully  Killed  Coordinates  \\\n",
       "0   1,000'     1.0    1.0            1.0       1         None   \n",
       "1     400'     1.0    1.0            NaN       1           \\n   \n",
       "2     300'     1.0    1.0            1.0       1         None   \n",
       "3     600'     1.0    1.0            1.0       1         None   \n",
       "4     500'     1.0    1.0            1.0       1           \\n   \n",
       "\n",
       "   Buried - Partly  Injured  \n",
       "0              NaN      NaN  \n",
       "1              1.0      NaN  \n",
       "2              NaN      NaN  \n",
       "3              NaN      NaN  \n",
       "4              NaN      1.0  \n",
       "\n",
       "[5 rows x 23 columns]"
      ]
     },
     "execution_count": 3,
     "metadata": {},
     "output_type": "execute_result"
    }
   ],
   "source": [
    "df.head()"
   ]
  },
  {
   "cell_type": "code",
   "execution_count": 4,
   "metadata": {},
   "outputs": [
    {
     "name": "stdout",
     "output_type": "stream",
     "text": [
      "Rows: 110\n",
      "Columns: 23\n",
      "----------------------------------------\n",
      "Observer Name                object\n",
      "Observation Date             object\n",
      "Avalanche Date               object\n",
      "Region                       object\n",
      "Location Name or Route       object\n",
      "Elevation                    object\n",
      "Aspect                       object\n",
      "Slope Angle                  object\n",
      "Trigger                      object\n",
      "Trigger: additional info     object\n",
      "Avalanche Type               object\n",
      "Avalanche Problem            object\n",
      "Weak Layer                   object\n",
      "Depth                        object\n",
      "Width                        object\n",
      "Vertical                     object\n",
      "Carried                     float64\n",
      "Caught                      float64\n",
      "Buried - Fully              float64\n",
      "Killed                        int64\n",
      "Coordinates                  object\n",
      "Buried - Partly             float64\n",
      "Injured                     float64\n",
      "dtype: object\n",
      "----------------------------------------\n"
     ]
    }
   ],
   "source": [
    "print('Rows: {}\\nColumns: {}'.format(df.shape[0], df.shape[1]))\n",
    "print(40 * '-')\n",
    "print(df.dtypes)\n",
    "print(40 * '-')\n"
   ]
  },
  {
   "cell_type": "code",
   "execution_count": 5,
   "metadata": {},
   "outputs": [
    {
     "data": {
      "text/plain": [
       "Observer Name                25\n",
       "Observation Date              0\n",
       "Avalanche Date                0\n",
       "Region                        0\n",
       "Location Name or Route       15\n",
       "Elevation                    31\n",
       "Aspect                       33\n",
       "Slope Angle                  58\n",
       "Trigger                       3\n",
       "Trigger: additional info     49\n",
       "Avalanche Type               45\n",
       "Avalanche Problem            73\n",
       "Weak Layer                   53\n",
       "Depth                        38\n",
       "Width                        39\n",
       "Vertical                     35\n",
       "Carried                      21\n",
       "Caught                       20\n",
       "Buried - Fully               31\n",
       "Killed                        0\n",
       "Coordinates                  73\n",
       "Buried - Partly              82\n",
       "Injured                     100\n",
       "dtype: int64"
      ]
     },
     "execution_count": 5,
     "metadata": {},
     "output_type": "execute_result"
    }
   ],
   "source": [
    "# Number of null values\n",
    "df.isnull().sum()"
   ]
  },
  {
   "cell_type": "code",
   "execution_count": 6,
   "metadata": {},
   "outputs": [
    {
     "data": {
      "text/html": [
       "<div>\n",
       "<style scoped>\n",
       "    .dataframe tbody tr th:only-of-type {\n",
       "        vertical-align: middle;\n",
       "    }\n",
       "\n",
       "    .dataframe tbody tr th {\n",
       "        vertical-align: top;\n",
       "    }\n",
       "\n",
       "    .dataframe thead th {\n",
       "        text-align: right;\n",
       "    }\n",
       "</style>\n",
       "<table border=\"1\" class=\"dataframe\">\n",
       "  <thead>\n",
       "    <tr style=\"text-align: right;\">\n",
       "      <th></th>\n",
       "      <th>Carried</th>\n",
       "      <th>Caught</th>\n",
       "      <th>Buried - Fully</th>\n",
       "      <th>Killed</th>\n",
       "      <th>Buried - Partly</th>\n",
       "      <th>Injured</th>\n",
       "    </tr>\n",
       "  </thead>\n",
       "  <tbody>\n",
       "    <tr>\n",
       "      <th>count</th>\n",
       "      <td>89.000000</td>\n",
       "      <td>90.000000</td>\n",
       "      <td>79.000000</td>\n",
       "      <td>110.000000</td>\n",
       "      <td>28.000000</td>\n",
       "      <td>10.000000</td>\n",
       "    </tr>\n",
       "    <tr>\n",
       "      <th>mean</th>\n",
       "      <td>1.640449</td>\n",
       "      <td>1.677778</td>\n",
       "      <td>1.215190</td>\n",
       "      <td>1.190909</td>\n",
       "      <td>1.178571</td>\n",
       "      <td>1.100000</td>\n",
       "    </tr>\n",
       "    <tr>\n",
       "      <th>std</th>\n",
       "      <td>1.227036</td>\n",
       "      <td>1.252663</td>\n",
       "      <td>0.673127</td>\n",
       "      <td>0.550154</td>\n",
       "      <td>0.475595</td>\n",
       "      <td>0.316228</td>\n",
       "    </tr>\n",
       "    <tr>\n",
       "      <th>min</th>\n",
       "      <td>1.000000</td>\n",
       "      <td>1.000000</td>\n",
       "      <td>1.000000</td>\n",
       "      <td>1.000000</td>\n",
       "      <td>1.000000</td>\n",
       "      <td>1.000000</td>\n",
       "    </tr>\n",
       "    <tr>\n",
       "      <th>25%</th>\n",
       "      <td>1.000000</td>\n",
       "      <td>1.000000</td>\n",
       "      <td>1.000000</td>\n",
       "      <td>1.000000</td>\n",
       "      <td>1.000000</td>\n",
       "      <td>1.000000</td>\n",
       "    </tr>\n",
       "    <tr>\n",
       "      <th>50%</th>\n",
       "      <td>1.000000</td>\n",
       "      <td>1.000000</td>\n",
       "      <td>1.000000</td>\n",
       "      <td>1.000000</td>\n",
       "      <td>1.000000</td>\n",
       "      <td>1.000000</td>\n",
       "    </tr>\n",
       "    <tr>\n",
       "      <th>75%</th>\n",
       "      <td>2.000000</td>\n",
       "      <td>2.000000</td>\n",
       "      <td>1.000000</td>\n",
       "      <td>1.000000</td>\n",
       "      <td>1.000000</td>\n",
       "      <td>1.000000</td>\n",
       "    </tr>\n",
       "    <tr>\n",
       "      <th>max</th>\n",
       "      <td>7.000000</td>\n",
       "      <td>7.000000</td>\n",
       "      <td>6.000000</td>\n",
       "      <td>4.000000</td>\n",
       "      <td>3.000000</td>\n",
       "      <td>2.000000</td>\n",
       "    </tr>\n",
       "  </tbody>\n",
       "</table>\n",
       "</div>"
      ],
      "text/plain": [
       "         Carried     Caught  Buried - Fully      Killed  Buried - Partly  \\\n",
       "count  89.000000  90.000000       79.000000  110.000000        28.000000   \n",
       "mean    1.640449   1.677778        1.215190    1.190909         1.178571   \n",
       "std     1.227036   1.252663        0.673127    0.550154         0.475595   \n",
       "min     1.000000   1.000000        1.000000    1.000000         1.000000   \n",
       "25%     1.000000   1.000000        1.000000    1.000000         1.000000   \n",
       "50%     1.000000   1.000000        1.000000    1.000000         1.000000   \n",
       "75%     2.000000   2.000000        1.000000    1.000000         1.000000   \n",
       "max     7.000000   7.000000        6.000000    4.000000         3.000000   \n",
       "\n",
       "         Injured  \n",
       "count  10.000000  \n",
       "mean    1.100000  \n",
       "std     0.316228  \n",
       "min     1.000000  \n",
       "25%     1.000000  \n",
       "50%     1.000000  \n",
       "75%     1.000000  \n",
       "max     2.000000  "
      ]
     },
     "execution_count": 6,
     "metadata": {},
     "output_type": "execute_result"
    }
   ],
   "source": [
    "df.describe()"
   ]
  },
  {
   "cell_type": "code",
   "execution_count": 7,
   "metadata": {},
   "outputs": [
    {
     "data": {
      "text/plain": [
       "Northeast    28\n",
       "East         15\n",
       "North        14\n",
       "Northwest    11\n",
       "West          3\n",
       "Southeast     3\n",
       "South         2\n",
       "Southwest     1\n",
       "Name: Aspect, dtype: int64"
      ]
     },
     "execution_count": 7,
     "metadata": {},
     "output_type": "execute_result"
    }
   ],
   "source": [
    "# The Aspect is the direction a slope faces with respect of the sun.\n",
    "df.Aspect.value_counts()"
   ]
  },
  {
   "cell_type": "code",
   "execution_count": 8,
   "metadata": {},
   "outputs": [
    {
     "data": {
      "text/plain": [
       "Skier          47\n",
       "Snowmobiler    30\n",
       "Snowboarder    14\n",
       "Natural         7\n",
       "Hiker           4\n",
       "Unknown         3\n",
       "Snowshoer       2\n",
       "Name: Trigger, dtype: int64"
      ]
     },
     "execution_count": 8,
     "metadata": {},
     "output_type": "execute_result"
    }
   ],
   "source": [
    "# Triggers are the potential cause of the avalanche\n",
    "df.Trigger.value_counts()"
   ]
  },
  {
   "cell_type": "code",
   "execution_count": 9,
   "metadata": {},
   "outputs": [
    {
     "data": {
      "text/plain": [
       "37°    10\n",
       "38°     8\n",
       "35°     6\n",
       "40°     5\n",
       "39°     5\n",
       "36°     5\n",
       "42°     3\n",
       "43°     2\n",
       "31°     1\n",
       "10°     1\n",
       "45°     1\n",
       "41°     1\n",
       "33°     1\n",
       "47°     1\n",
       "34°     1\n",
       "50°     1\n",
       "Name: Slope Angle, dtype: int64"
      ]
     },
     "execution_count": 9,
     "metadata": {},
     "output_type": "execute_result"
    }
   ],
   "source": [
    "df['Slope Angle'].value_counts()"
   ]
  },
  {
   "cell_type": "code",
   "execution_count": 10,
   "metadata": {},
   "outputs": [
    {
     "data": {
      "text/plain": [
       "Hard Slab       32\n",
       "Soft Slab       31\n",
       "Cornice Fall     1\n",
       "Wet Slab         1\n",
       "Name: Avalanche Type, dtype: int64"
      ]
     },
     "execution_count": 10,
     "metadata": {},
     "output_type": "execute_result"
    }
   ],
   "source": [
    "df['Avalanche Type'].value_counts()"
   ]
  },
  {
   "cell_type": "code",
   "execution_count": 11,
   "metadata": {},
   "outputs": [
    {
     "data": {
      "text/plain": [
       "0        3.5'\n",
       "1          2'\n",
       "2          3'\n",
       "3          3'\n",
       "4        5.5'\n",
       "5          4'\n",
       "6         NaN\n",
       "7          3'\n",
       "8         18\"\n",
       "9          2'\n",
       "10         2'\n",
       "11        16\"\n",
       "12       3.5'\n",
       "13        NaN\n",
       "14       2.5'\n",
       "15         3'\n",
       "16        16\"\n",
       "17         2'\n",
       "18         2'\n",
       "19         8\"\n",
       "20        18\"\n",
       "21       2.5'\n",
       "22         4'\n",
       "23         4'\n",
       "24    Unknown\n",
       "Name: Depth, dtype: object"
      ]
     },
     "execution_count": 11,
     "metadata": {},
     "output_type": "execute_result"
    }
   ],
   "source": [
    "# In the 'Depth' variable column we can see there are measurements made in inches(\"), others in feet('), and \n",
    "# we also see the present of NaN and Unknown to represent missing values.\n",
    "df['Depth'].head(25)"
   ]
  },
  {
   "cell_type": "code",
   "execution_count": 12,
   "metadata": {},
   "outputs": [
    {
     "data": {
      "text/plain": [
       "0     1,000'\n",
       "1       400'\n",
       "2       300'\n",
       "3       600'\n",
       "4       500'\n",
       "5     1,500'\n",
       "6       300'\n",
       "7       400'\n",
       "8     1,250'\n",
       "9       400'\n",
       "10      250'\n",
       "11      800'\n",
       "12      400'\n",
       "13      900'\n",
       "14    2,500'\n",
       "15      350'\n",
       "16      600'\n",
       "17    1,000'\n",
       "18      250'\n",
       "19    1,500'\n",
       "Name: Vertical, dtype: object"
      ]
     },
     "execution_count": 12,
     "metadata": {},
     "output_type": "execute_result"
    }
   ],
   "source": [
    "df.Vertical.head(20)"
   ]
  },
  {
   "cell_type": "code",
   "execution_count": 13,
   "metadata": {},
   "outputs": [
    {
     "data": {
      "text/plain": [
       "0     9,400'\n",
       "1     9,700'\n",
       "2     9,100'\n",
       "3     9,500'\n",
       "4    10,300'\n",
       "Name: Elevation, dtype: object"
      ]
     },
     "execution_count": 13,
     "metadata": {},
     "output_type": "execute_result"
    }
   ],
   "source": [
    "df['Elevation'].head()"
   ]
  },
  {
   "cell_type": "markdown",
   "metadata": {},
   "source": [
    "## Prepare"
   ]
  },
  {
   "cell_type": "markdown",
   "metadata": {},
   "source": [
    "### Convert Observation Date and Avalanche Date from Object type to Datetime."
   ]
  },
  {
   "cell_type": "code",
   "execution_count": 14,
   "metadata": {},
   "outputs": [],
   "source": [
    "df['Observation Date'] = pd.to_datetime(df['Observation Date'])\n",
    "df['Avalanche Date'] = pd.to_datetime(df['Avalanche Date'])"
   ]
  },
  {
   "cell_type": "markdown",
   "metadata": {},
   "source": [
    "### Convert Vertical, Depth and Elevation to numeric"
   ]
  },
  {
   "cell_type": "code",
   "execution_count": 15,
   "metadata": {},
   "outputs": [],
   "source": [
    "# Convert feet and inches to meters\n",
    "def to_meters(text):\n",
    "    text = str(text)\n",
    "    \n",
    "    if text.isalpha():\n",
    "        return np.nan\n",
    "\n",
    "    # Look for thousand symbol\n",
    "    if text.find(',') > -1:\n",
    "        text = text.replace(\",\", \"\")\n",
    "    \n",
    "    # Look for the feet or inche symbol\n",
    "    in_feet = text.find(\"\\'\")\n",
    "    in_inches = text.find(\"\\\"\")\n",
    "\n",
    "    inches = 0\n",
    "    feets = 0\n",
    "\n",
    "    if in_feet > -1:\n",
    "        feets = float(text.strip()[:in_feet])\n",
    "\n",
    "    if (in_feet > -1) and (in_inches > -1):\n",
    "        # Feet will always came first than inches\n",
    "        inches = float(text[(in_feet + 1):in_inches])        \n",
    "    elif in_inches > -1:\n",
    "        inches = float(text.strip()[:in_inches])\n",
    "\n",
    "    return (feets * 0.3048) + (inches * 0.0254)"
   ]
  },
  {
   "cell_type": "code",
   "execution_count": 16,
   "metadata": {},
   "outputs": [],
   "source": [
    "df['Vertical'] = df['Vertical'].apply(to_meters)\n",
    "df['Depth'] = df['Depth'].apply(to_meters)\n",
    "df['Elevation'] = df['Elevation'].apply(to_meters)"
   ]
  },
  {
   "cell_type": "code",
   "execution_count": 17,
   "metadata": {},
   "outputs": [
    {
     "data": {
      "text/plain": [
       "Observer Name                       object\n",
       "Observation Date            datetime64[ns]\n",
       "Avalanche Date              datetime64[ns]\n",
       "Region                              object\n",
       "Location Name or Route              object\n",
       "Elevation                          float64\n",
       "Aspect                              object\n",
       "Slope Angle                         object\n",
       "Trigger                             object\n",
       "Trigger: additional info            object\n",
       "Avalanche Type                      object\n",
       "Avalanche Problem                   object\n",
       "Weak Layer                          object\n",
       "Depth                              float64\n",
       "Width                               object\n",
       "Vertical                           float64\n",
       "Carried                            float64\n",
       "Caught                             float64\n",
       "Buried - Fully                     float64\n",
       "Killed                               int64\n",
       "Coordinates                         object\n",
       "Buried - Partly                    float64\n",
       "Injured                            float64\n",
       "dtype: object"
      ]
     },
     "execution_count": 17,
     "metadata": {},
     "output_type": "execute_result"
    }
   ],
   "source": [
    "df.dtypes"
   ]
  },
  {
   "cell_type": "markdown",
   "metadata": {},
   "source": [
    "### Create a year column"
   ]
  },
  {
   "cell_type": "code",
   "execution_count": 18,
   "metadata": {},
   "outputs": [],
   "source": [
    "df['year'] = df['Avalanche Date'].dt.year"
   ]
  },
  {
   "cell_type": "markdown",
   "metadata": {},
   "source": [
    "## Analysis"
   ]
  },
  {
   "cell_type": "markdown",
   "metadata": {},
   "source": [
    "### Avalanche Deaths over time"
   ]
  },
  {
   "cell_type": "code",
   "execution_count": 19,
   "metadata": {},
   "outputs": [
    {
     "data": {
      "text/html": [
       "<div>\n",
       "<style scoped>\n",
       "    .dataframe tbody tr th:only-of-type {\n",
       "        vertical-align: middle;\n",
       "    }\n",
       "\n",
       "    .dataframe tbody tr th {\n",
       "        vertical-align: top;\n",
       "    }\n",
       "\n",
       "    .dataframe thead th {\n",
       "        text-align: right;\n",
       "    }\n",
       "</style>\n",
       "<table border=\"1\" class=\"dataframe\">\n",
       "  <thead>\n",
       "    <tr style=\"text-align: right;\">\n",
       "      <th></th>\n",
       "      <th>year</th>\n",
       "      <th>Killed</th>\n",
       "    </tr>\n",
       "  </thead>\n",
       "  <tbody>\n",
       "    <tr>\n",
       "      <th>0</th>\n",
       "      <td>1964</td>\n",
       "      <td>1</td>\n",
       "    </tr>\n",
       "    <tr>\n",
       "      <th>1</th>\n",
       "      <td>1965</td>\n",
       "      <td>1</td>\n",
       "    </tr>\n",
       "    <tr>\n",
       "      <th>2</th>\n",
       "      <td>1967</td>\n",
       "      <td>2</td>\n",
       "    </tr>\n",
       "    <tr>\n",
       "      <th>3</th>\n",
       "      <td>1968</td>\n",
       "      <td>1</td>\n",
       "    </tr>\n",
       "    <tr>\n",
       "      <th>4</th>\n",
       "      <td>1970</td>\n",
       "      <td>1</td>\n",
       "    </tr>\n",
       "  </tbody>\n",
       "</table>\n",
       "</div>"
      ],
      "text/plain": [
       "   year  Killed\n",
       "0  1964       1\n",
       "1  1965       1\n",
       "2  1967       2\n",
       "3  1968       1\n",
       "4  1970       1"
      ]
     },
     "execution_count": 19,
     "metadata": {},
     "output_type": "execute_result"
    }
   ],
   "source": [
    "deaths = df[df['year'] >= 1960]\n",
    "deaths = deaths[['year', 'Killed']].groupby('year').sum()\n",
    "\n",
    "deaths.reset_index(inplace=True)\n",
    "\n",
    "deaths.head()"
   ]
  },
  {
   "cell_type": "code",
   "execution_count": 20,
   "metadata": {},
   "outputs": [
    {
     "data": {
      "image/png": "[encoded data removed]",
      "text/plain": [
       "<Figure size 720x720 with 1 Axes>"
      ]
     },
     "metadata": {
      "needs_background": "light"
     },
     "output_type": "display_data"
    }
   ],
   "source": [
    "fig = plt.figure(figsize=(10,10))\n",
    "sns.regplot(data=deaths, x='year', y='Killed', marker='x', scatter_kws={'color': 'red'})\n",
    "\n",
    "# Set title\n",
    "plt.title('Fatal Avalanches over Time', fontsize=22)\n",
    "\n",
    "# Adjust axis interval\n",
    "plt.gca().set_ylim(0, 8)\n",
    "plt.gca().set_xlim(xmin=1960, xmax=2025)\n",
    "\n",
    "# Set the x axis interval to 5\n",
    "plt.gca().xaxis.set_major_locator(ticker.MultipleLocator(5))\n",
    "plt.gca().xaxis.set_major_formatter(ticker.ScalarFormatter())\n",
    "\n",
    "# Remove top and right margin\n",
    "sns.despine()"
   ]
  },
  {
   "cell_type": "markdown",
   "metadata": {},
   "source": [
    "### Triggers of Avalanches"
   ]
  },
  {
   "cell_type": "code",
   "execution_count": 21,
   "metadata": {},
   "outputs": [
    {
     "data": {
      "image/png": "[encoded data removed]",
      "text/plain": [
       "<Figure size 648x576 with 1 Axes>"
      ]
     },
     "metadata": {
      "needs_background": "light"
     },
     "output_type": "display_data"
    }
   ],
   "source": [
    "fig = plt.figure(figsize=(9,8))\n",
    "sns.countplot(data=df, x='Trigger')\n",
    "\n",
    "# Set title\n",
    "plt.title('Fatal Triggres', fontsize=22)\n",
    "\n",
    "# Remove top and right frame\n",
    "sns.despine()"
   ]
  },
  {
   "cell_type": "markdown",
   "metadata": {},
   "source": [
    "### Fatal Slope"
   ]
  },
  {
   "cell_type": "code",
   "execution_count": 22,
   "metadata": {},
   "outputs": [
    {
     "data": {
      "image/png": "[encoded data removed]",
      "text/plain": [
       "<Figure size 720x720 with 1 Axes>"
      ]
     },
     "metadata": {
      "needs_background": "light"
     },
     "output_type": "display_data"
    }
   ],
   "source": [
    "fig = plt.figure(figsize=(10, 10))\n",
    "\n",
    "order = ['10°', '31°', '33°', '34°', '35°', '36°', '37°', '38°', '39°', '40°', '41°', '42°', '43°',\n",
    "            '45°', '47°', '50°']\n",
    "\n",
    "sns.countplot(data=df, x='Slope Angle', order=order)\n",
    "\n",
    "# Set title\n",
    "plt.title(\"Fatalities by Slope Angles\", fontsize=22)\n",
    "\n",
    "# Remove top and right frame\n",
    "sns.despine()"
   ]
  },
  {
   "cell_type": "markdown",
   "metadata": {},
   "source": [
    "### Fatalities by elevation"
   ]
  },
  {
   "cell_type": "code",
   "execution_count": 23,
   "metadata": {},
   "outputs": [
    {
     "data": {
      "image/png": "[encoded data removed]",
      "text/plain": [
       "<Figure size 720x720 with 1 Axes>"
      ]
     },
     "metadata": {
      "needs_background": "light"
     },
     "output_type": "display_data"
    }
   ],
   "source": [
    "fig = plt.figure(figsize=(10,10))\n",
    "\n",
    "sns.histplot(data=df, x='Elevation')\n",
    "\n",
    "plt.title('Avalanche Fatalities by Elevation', fontsize=22)\n",
    "\n",
    "sns.despine()"
   ]
  },
  {
   "cell_type": "markdown",
   "metadata": {},
   "source": [
    "### Fatalities Heatmap"
   ]
  },
  {
   "cell_type": "code",
   "execution_count": 24,
   "metadata": {},
   "outputs": [
    {
     "data": {
      "text/plain": [
       "Text(0.5, 1.0, 'Fatalities by Aspect and Slope Angle')"
      ]
     },
     "execution_count": 24,
     "metadata": {},
     "output_type": "execute_result"
    },
    {
     "data": {
      "image/png": "[encoded data removed]",
      "text/plain": [
       "<Figure size 720x720 with 2 Axes>"
      ]
     },
     "metadata": {
      "needs_background": "light"
     },
     "output_type": "display_data"
    }
   ],
   "source": [
    "fig = plt.figure(figsize=(10,10))\n",
    "\n",
    "# Prepare the data for indroduce in the heatmap function\n",
    "temp = df.pivot_table(index='Slope Angle', columns='Aspect', values='Killed', aggfunc='count')\n",
    "\n",
    "sns.heatmap(temp, cmap='Paired')\n",
    "\n",
    "plt.title('Fatalities by Aspect and Slope Angle', fontsize=22)"
   ]
  }
 ],
 "metadata": {
  "kernelspec": {
   "display_name": "Python 3 (ipykernel)",
   "language": "python",
   "name": "python3"
  },
  "language_info": {
   "codemirror_mode": {
    "name": "ipython",
    "version": 3
   },
   "file_extension": ".py",
   "mimetype": "text/x-python",
   "name": "python",
   "nbconvert_exporter": "python",
   "pygments_lexer": "ipython3",
   "version": "3.9.12"
  },
  "vscode": {
   "interpreter": {
    "hash": "03807f14374d48a012f2c2fc4f755b0d6c7752c702bf94ef3948bcb4759f40ca"
   }
  }
 },
 "nbformat": 4,
 "nbformat_minor": 2
}
